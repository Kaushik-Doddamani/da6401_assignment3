{
 "cells": [
  {
   "cell_type": "code",
   "execution_count": 3,
   "id": "b09f3f38",
   "metadata": {},
   "outputs": [],
   "source": [
    "import pandas as pd\n",
    "dataframe = pd.read_csv(\"./lexicons/hi.translit.sampled.train.tsv\", sep=\"\\t\", header=None,\n",
    "                                names=[\"target_native\", \"source_roman\", \"count\"],\n",
    "                                dtype=str)"
   ]
  },
  {
   "cell_type": "code",
   "execution_count": null,
   "id": "baa15847",
   "metadata": {},
   "outputs": [
    {
     "name": "stdout",
     "output_type": "stream",
     "text": [
      "NaN values found in the following rows:\n",
      "      target_native source_roman count\n",
      "19535            नं          NaN     3\n",
      "20147           नान          NaN     2\n"
     ]
    }
   ],
   "source": [
    "# Check for NaN values\n",
    "nan_rows = dataframe[dataframe.isna().any(axis=1)]\n",
    "if not nan_rows.empty:\n",
    "    print(\"NaN values found in the following rows:\")\n",
    "    print(nan_rows) "
   ]
  },
  {
   "cell_type": "code",
   "execution_count": null,
   "id": "8d014dea",
   "metadata": {},
   "outputs": [],
   "source": [
    "# Drop rows with NaN values\n",
    "dataframe = dataframe.dropna()"
   ]
  }
 ],
 "metadata": {
  "kernelspec": {
   "display_name": "torch_jax_gpu",
   "language": "python",
   "name": "python3"
  },
  "language_info": {
   "codemirror_mode": {
    "name": "ipython",
    "version": 3
   },
   "file_extension": ".py",
   "mimetype": "text/x-python",
   "name": "python",
   "nbconvert_exporter": "python",
   "pygments_lexer": "ipython3",
   "version": "3.12.2"
  }
 },
 "nbformat": 4,
 "nbformat_minor": 5
}
